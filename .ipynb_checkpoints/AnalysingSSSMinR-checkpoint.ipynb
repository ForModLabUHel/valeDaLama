{
 "cells": [
  {
   "cell_type": "markdown",
   "metadata": {},
   "source": [
    "## Analysing SSM in R\n",
    "Adding a JupyterLab Notebook, empowered with R, to Francesco's repo"
   ]
  },
  {
   "cell_type": "code",
   "execution_count": 11,
   "metadata": {},
   "outputs": [],
   "source": [
    "library(viridis) # nice color palette\n",
    "#library(ggmap) # ggplot functionality for maps\n",
    "library(dplyr) # use for fixing up data\n",
    "library(readr) # reading in data/csv\n",
    "library(RColorBrewer) # for color palettes\n",
    "library(purrr) # for mapping over a function\n",
    "#library(magick) # this is call to animate/read pngs\n",
    "\n",
    "library(maptools)\n",
    "#library(gpclib)\n",
    "#library(rgdal)\n",
    "library(ggplot2)\n",
    "library(sp)\n",
    "#library(RStoolbox)\n",
    "# library(plotly)\n",
    "# library(gapminder)\n",
    "library(data.table)\n",
    "library(stringr)\n",
    "#library(RgoogleMaps)\n",
    "library(lubridate)\n",
    "library(raster)\n",
    "#library(rasterVis)"
   ]
  },
  {
   "cell_type": "code",
   "execution_count": 12,
   "metadata": {},
   "outputs": [
    {
     "ename": "ERROR",
     "evalue": "Error in fread(paste0(\"data/collectedData/\", files[i])): File 'data/collectedData/NA' does not exist; getwd()=='/Users/walterludwick/Documents/GitHub/Analysing-SSM'. Include correct full path, or one or more spaces to consider the input a system command.\n",
     "execution_count": 12,
     "output_type": "error",
     "traceback": [
      "Error in fread(paste0(\"data/collectedData/\", files[i])): File 'data/collectedData/NA' does not exist; getwd()=='/Users/walterludwick/Documents/GitHub/Analysing-SSM'. Include correct full path, or one or more spaces to consider the input a system command.\nTraceback:\n",
      "1. fread(paste0(\"data/collectedData/\", files[i]))",
      "2. stop(\"File '\", input, \"' does not exist; getwd()=='\", getwd(), \n .     \"'\", \". Include correct full path, or one or more spaces to consider the input a system command.\")"
     ]
    }
   ],
   "source": [
    "allData <- data.table()\n",
    "files <- list.files(path= \"data/collectedData/\",pattern = \"\\\\.csv$\", recursive = TRUE)\n",
    "\n",
    "for(i in 1:length(files)){\n",
    "  dataX <- fread(paste0(\"data/collectedData/\",files[i]))\n",
    "  fileX  <- str_split(files[i],\"\\\\. |\\\\.| \")\n",
    "  dataX[,id:=fileX[[1]][5]]\n",
    "  allData <- rbind(allData,dataX)\n",
    "}"
   ]
  },
  {
   "cell_type": "code",
   "execution_count": null,
   "metadata": {},
   "outputs": [],
   "source": []
  }
 ],
 "metadata": {
  "kernelspec": {
   "display_name": "R",
   "language": "R",
   "name": "ir"
  },
  "language_info": {
   "codemirror_mode": "r",
   "file_extension": ".r",
   "mimetype": "text/x-r-source",
   "name": "R",
   "pygments_lexer": "r",
   "version": "3.5.1"
  }
 },
 "nbformat": 4,
 "nbformat_minor": 2
}
