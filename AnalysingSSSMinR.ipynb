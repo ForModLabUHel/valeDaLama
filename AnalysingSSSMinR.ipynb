{
 "cells": [
  {
   "cell_type": "markdown",
   "metadata": {},
   "source": [
    "## Analysing SSM in R\n",
    "Adding a JupyterLab Notebook, empowered with R, to Francesco's repo"
   ]
  },
  {
   "cell_type": "code",
   "execution_count": null,
   "metadata": {},
   "outputs": [
    {
     "name": "stderr",
     "output_type": "stream",
     "text": [
      "Linking to ImageMagick 6.9.9.39\n",
      "Enabled features: cairo, fontconfig, freetype, lcms, pango, rsvg, webp\n",
      "Disabled features: fftw, ghostscript, x11\n",
      "General Polygon Clipper Library for R (version 1.5-5)\n",
      "\tType 'class ? gpc.poly' for help\n"
     ]
    }
   ],
   "source": [
    "library(viridis) # nice color palette\n",
    "library(ggmap) # ggplot functionality for maps\n",
    "library(dplyr) # use for fixing up data\n",
    "library(readr) # reading in data/csv\n",
    "library(RColorBrewer) # for color palettes\n",
    "library(purrr) # for mapping over a function\n",
    "library(magick) # this is call to animate/read pngs\n",
    "\n",
    "library(maptools)\n",
    "library(gpclib)\n",
    "library(rgdal)\n",
    "library(ggplot2)\n",
    "library(sp)\n",
    "library(RStoolbox)\n",
    "library(plotly)\n",
    "library(gapminder)\n",
    "library(data.table)\n",
    "library(stringr)\n",
    "library(RgoogleMaps)\n",
    "library(lubridate)\n",
    "library(raster)\n",
    "library(rasterVis)"
   ]
  },
  {
   "cell_type": "code",
   "execution_count": null,
   "metadata": {},
   "outputs": [],
   "source": [
    "getwd()"
   ]
  },
  {
   "cell_type": "code",
   "execution_count": null,
   "metadata": {},
   "outputs": [],
   "source": [
    "setwd('/Users//walterludwick/Documents/GitHub/valeDaLama/')"
   ]
  },
  {
   "cell_type": "code",
   "execution_count": null,
   "metadata": {},
   "outputs": [],
   "source": [
    "allData <- data.table()\n",
    "files <- list.files(path= \"data/collectedData/\",pattern = \"\\\\.csv$\", recursive = TRUE)\n",
    "\n",
    "for(i in 1:length(files)){\n",
    "  dataX <- fread(paste0(\"data/collectedData/\",files[i]))\n",
    "  fileX  <- str_split(files[i],\"\\\\. |\\\\.| \")\n",
    "  dataX[,id:=fileX[[1]][5]]\n",
    "  allData <- rbind(allData,dataX)\n",
    "}"
   ]
  },
  {
   "cell_type": "code",
   "execution_count": null,
   "metadata": {},
   "outputs": [],
   "source": [
    "###read ancilary data\n",
    "ancData <- fread(\"data/ancData.txt\")\n",
    "### and take IDs that are in common \n",
    "sitesX <- intersect(ancData$FP_ID,allData$id)"
   ]
  },
  {
   "cell_type": "code",
   "execution_count": null,
   "metadata": {},
   "outputs": [],
   "source": [
    "###consider only sites that are in common (siteX)\n",
    "ancDataX <- ancData[which(ancData$FP_ID %in% sitesX)]\n",
    "dataX <- allData[which(allData$id %in% sitesX)]"
   ]
  },
  {
   "cell_type": "code",
   "execution_count": null,
   "metadata": {},
   "outputs": [],
   "source": [
    "###transform date and time data into posix class object\n",
    "dataX$dates <-as.POSIXct(dataX$capture_datetime_utc)\n",
    "###round dates at 15 minutes\n",
    "dataX$dates <- round_date(dataX$dates,\"15 minutes\")"
   ]
  },
  {
   "cell_type": "code",
   "execution_count": null,
   "metadata": {},
   "outputs": [],
   "source": [
    "###merge dataX and coordinates\n",
    "setkey(dataX,\"id\")\n",
    "names(ancDataX)[1] <- 'id'\n",
    "setkey(ancDataX,\"id\")\n",
    "dataX <- merge(dataX,ancDataX[,c(1,4,5)],by=\"id\")"
   ]
  },
  {
   "cell_type": "code",
   "execution_count": null,
   "metadata": {},
   "outputs": [],
   "source": [
    "###subset dataset\n",
    "##extract measurements at certain time\n",
    "subDataX <- subset(dataX, format(dates,'%H:%M')=='06:00' | format(dates,'%H:%M')=='16:00')\n",
    "dates <- unique(subDataX$dates)\n"
   ]
  },
  {
   "cell_type": "code",
   "execution_count": null,
   "metadata": {},
   "outputs": [],
   "source": [
    "##compute daily mean\n",
    "dailyMean <- dataX %>%\n",
    "  mutate(dates = floor_date(dates,unit=\"day\")) %>%\n",
    "  group_by(dates,id) %>%\n",
    "  summarize(mean_SM = mean(soil_moisture_percent))\n",
    "\n",
    "dailyMean <- data.table(dailyMean)\n",
    "dates <- unique(dailyMean$dates)\n",
    "\n",
    "dailyData <- merge(dailyMean,ancDataX[,c(1,4,5)],by=\"id\")"
   ]
  },
  {
   "cell_type": "code",
   "execution_count": null,
   "metadata": {},
   "outputs": [],
   "source": [
    "# process images (change coordinates and crop) \n",
    "# ortoPhoto <- raster(\"C:/Users/minunno/Documents/walt/Ortofoto_RGB.tif\")\n",
    "# ops = brick(\"data/valeDaLama_raster.tif\")\n",
    "# ll <- projectRaster(ortoPhoto, crs=crs(ops))\n",
    "# ops = raster(\"data/valeDaLama_raster.tif\")\n",
    "# e <- extent(-8.64,-8.625,37.1375,37.1425)\n",
    "# rasterZoom <- crop(ops,e)\n",
    "# writeRaster(rasterZoom,filename = \"data/valeDaLama_rasterZoom.tif\")"
   ]
  },
  {
   "cell_type": "code",
   "execution_count": null,
   "metadata": {},
   "outputs": [],
   "source": [
    "###map settings\n",
    "myPalette <- colorRampPalette(brewer.pal(11, \"Spectral\"))\n",
    "sc <- scale_colour_gradientn(colours = myPalette(100), limits=c(0, 100))\n",
    "# dem1 <- raster(\"data/DEMvdl.tif\")\n",
    "# dem2 <- raster(\"data/DEMvdl2.tif\")\n",
    "df = brick(\"data/valeDaLama_raster.tif\")"
   ]
  },
  {
   "cell_type": "code",
   "execution_count": null,
   "metadata": {},
   "outputs": [],
   "source": [
    "###make maps and gif\n",
    "ndwi_map <- function(dateX){\n",
    "  \n",
    "  ggRGB(df)+\n",
    "    geom_point(\n",
    "      \n",
    "      data=dataX[dates==dateX], mapping = aes(x = LON, y = LAT,  \n",
    "                                                             colour=soil_moisture_percent),\n",
    "      size=3) +\n",
    "    labs(title = \"Soil Moisture %\",\n",
    "         subtitle = dateX) + \n",
    "     ylim(37.1375,37.142) +\n",
    "     xlim(-8.6375,-8.629) +\n",
    "    theme(axis.line=element_blank(),axis.text.x=element_blank(),\n",
    "    axis.text.y=element_blank(),axis.ticks=element_blank(),\n",
    "    axis.title.x=element_blank(),\n",
    "    axis.title.y=element_blank())+\n",
    "    labs(colour = \"%\") +\n",
    "  sc\n",
    "  print(paste0(\"saving plot \", dateX))\n",
    "  ggsave(filename = paste0(\"maps/hgm_ndwi_\",as.numeric(dateX),\".png\"),\n",
    "         width = 8,height=8,dpi = 150)\n",
    "}"
   ]
  },
  {
   "cell_type": "code",
   "execution_count": null,
   "metadata": {},
   "outputs": [],
   "source": [
    "# dates\n",
    "# Step 1: Make Plots For dates Range \n",
    "dates %>% \n",
    "  map_df(ndwi_map)"
   ]
  },
  {
   "cell_type": "code",
   "execution_count": null,
   "metadata": {},
   "outputs": [],
   "source": [
    "# Step 2: List those Plots, Read them in, and then make animation\n",
    "list.files(path = \"maps/\", pattern = \"*.png\", full.names = T) %>% \n",
    "  map(image_read) %>% # reads each path file\n",
    "  image_join() %>% # joins image\n",
    "  image_animate(fps=2) %>% # animates, can opt for number of loops\n",
    "  image_write(\"maps/timeSeries.gif\") # write to current dir\n"
   ]
  },
  {
   "cell_type": "code",
   "execution_count": null,
   "metadata": {},
   "outputs": [],
   "source": [
    "# qplot(dem1)"
   ]
  },
  {
   "cell_type": "code",
   "execution_count": null,
   "metadata": {},
   "outputs": [],
   "source": [
    "###make maps and gif for daily means\n",
    "ndwi_map <- function(dateX){\n",
    "  \n",
    "  ggRGB(df)+\n",
    "    geom_point(\n",
    "      \n",
    "      data=dailyData[dates==dateX], mapping = aes(x = LON, y = LAT,  \n",
    "                                              colour=mean_SM),\n",
    "      size=3) +\n",
    "    labs(title = \"Soil Moisture %\",\n",
    "         subtitle = dateX) + \n",
    "    ylim(37.1375,37.142) +\n",
    "    xlim(-8.6375,-8.629) +\n",
    "    theme(axis.line=element_blank(),axis.text.x=element_blank(),\n",
    "          axis.text.y=element_blank(),axis.ticks=element_blank(),\n",
    "          axis.title.x=element_blank(),\n",
    "          axis.title.y=element_blank())+\n",
    "    labs(colour = \"%\") +\n",
    "    sc\n",
    "  print(paste0(\"saving plot \", dateX))\n",
    "  ggsave(filename = paste0(\"mapsDaily/hgm_ndwi_\",as.numeric(dateX),\".png\"),\n",
    "         width = 8,height=8,dpi = 150)\n",
    "}"
   ]
  },
  {
   "cell_type": "code",
   "execution_count": null,
   "metadata": {},
   "outputs": [],
   "source": [
    "# dates\n",
    "# Step 1: Make Plots For dates Range \n",
    "dates %>% \n",
    "  map_df(ndwi_map)"
   ]
  },
  {
   "cell_type": "code",
   "execution_count": null,
   "metadata": {},
   "outputs": [],
   "source": [
    "# Step 2: List those Plots, Read them in, and then make animation\n",
    "list.files(path = \"mapsDaily/\", pattern = \"*.png\", full.names = T) %>% \n",
    "  map(image_read) %>% # reads each path file\n",
    "  image_join() %>% # joins image\n",
    "  image_animate(fps=2) %>% # animates, can opt for number of loops\n",
    "  image_write(\"maps/timeSeries.gif\") # write to current dir\n"
   ]
  },
  {
   "cell_type": "code",
   "execution_count": null,
   "metadata": {},
   "outputs": [],
   "source": []
  }
 ],
 "metadata": {
  "kernelspec": {
   "display_name": "R",
   "language": "R",
   "name": "ir"
  },
  "language_info": {
   "codemirror_mode": "r",
   "file_extension": ".r",
   "mimetype": "text/x-r-source",
   "name": "R",
   "pygments_lexer": "r",
   "version": "3.5.1"
  }
 },
 "nbformat": 4,
 "nbformat_minor": 2
}
